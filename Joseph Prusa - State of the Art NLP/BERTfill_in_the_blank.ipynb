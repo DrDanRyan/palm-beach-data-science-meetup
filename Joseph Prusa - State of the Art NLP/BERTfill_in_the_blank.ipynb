{
 "cells": [
  {
   "cell_type": "code",
   "execution_count": 4,
   "metadata": {},
   "outputs": [],
   "source": [
    "import torch\n",
    "from pytorch_pretrained_bert import BertTokenizer, BertModel, BertForMaskedLM\n",
    "\n",
    "# OPTIONAL: if you want to have more information on what's happening, activate the logger as follows\n",
    "#import logging\n",
    "#logging.basicConfig(level=logging.INFO)"
   ]
  },
  {
   "cell_type": "code",
   "execution_count": 5,
   "metadata": {},
   "outputs": [],
   "source": [
    "# Load pre-trained model (weights) and tokenizer\n",
    "model = BertForMaskedLM.from_pretrained('bert-base-uncased')\n",
    "model.eval()\n",
    "\n",
    "tokenizer = BertTokenizer.from_pretrained('bert-base-uncased')"
   ]
  },
  {
   "cell_type": "code",
   "execution_count": 6,
   "metadata": {},
   "outputs": [],
   "source": [
    "def fill_in_the_blank(text, masked_index):\n",
    "    # fills in a blank in a sentence\n",
    "    # text, the full unmasked text on which to make the prediction\n",
    "    # masked_index, the word/token index that you want the model to guess\n",
    "    text = '[CLS] '+text+' [SEP]'\n",
    "    tokenized_text = tokenizer.tokenize(text)\n",
    "    print(' '.join(tokenized_text))\n",
    "    tokenized_text[masked_index] = '[MASK]'\n",
    "    print(' '.join(tokenized_text))\n",
    "    segments_ids = [0 for i in tokenized_text]\n",
    "    indexed_tokens = tokenizer.convert_tokens_to_ids(tokenized_text)\n",
    "    tokens_tensor = torch.tensor([indexed_tokens])\n",
    "    segments_tensors = torch.tensor([segments_ids])\n",
    "    \n",
    "    with torch.no_grad():\n",
    "        predictions = model(tokens_tensor, segments_tensors)\n",
    "\n",
    "    predicted_index = torch.argmax(predictions[0, masked_index]).item()\n",
    "    predicted_token = tokenizer.convert_ids_to_tokens([predicted_index])[0]\n",
    "    tokenized_text[masked_index] = predicted_token\n",
    "    print(' '.join(tokenized_text))"
   ]
  },
  {
   "cell_type": "code",
   "execution_count": 7,
   "metadata": {},
   "outputs": [
    {
     "name": "stdout",
     "output_type": "stream",
     "text": [
      "[CLS] sally sells seas shells down by the sea shore . [SEP]\n",
      "[MASK] sally sells seas shells down by the sea shore . [SEP]\n",
      ". sally sells seas shells down by the sea shore . [SEP]\n",
      "\n",
      "[CLS] sally sells seas shells down by the sea shore . [SEP]\n",
      "[CLS] [MASK] sells seas shells down by the sea shore . [SEP]\n",
      "[CLS] he sells seas shells down by the sea shore . [SEP]\n",
      "\n",
      "[CLS] sally sells seas shells down by the sea shore . [SEP]\n",
      "[CLS] sally [MASK] seas shells down by the sea shore . [SEP]\n",
      "[CLS] sally ##ing seas shells down by the sea shore . [SEP]\n",
      "\n",
      "[CLS] sally sells seas shells down by the sea shore . [SEP]\n",
      "[CLS] sally sells [MASK] shells down by the sea shore . [SEP]\n",
      "[CLS] sally sells the shells down by the sea shore . [SEP]\n",
      "\n",
      "[CLS] sally sells seas shells down by the sea shore . [SEP]\n",
      "[CLS] sally sells seas [MASK] down by the sea shore . [SEP]\n",
      "[CLS] sally sells seas ##hell down by the sea shore . [SEP]\n",
      "\n",
      "[CLS] sally sells seas shells down by the sea shore . [SEP]\n",
      "[CLS] sally sells seas shells [MASK] by the sea shore . [SEP]\n",
      "[CLS] sally sells seas shells sold by the sea shore . [SEP]\n",
      "\n",
      "[CLS] sally sells seas shells down by the sea shore . [SEP]\n",
      "[CLS] sally sells seas shells down [MASK] the sea shore . [SEP]\n",
      "[CLS] sally sells seas shells down to the sea shore . [SEP]\n",
      "\n",
      "[CLS] sally sells seas shells down by the sea shore . [SEP]\n",
      "[CLS] sally sells seas shells down by [MASK] sea shore . [SEP]\n",
      "[CLS] sally sells seas shells down by the sea shore . [SEP]\n",
      "\n",
      "[CLS] sally sells seas shells down by the sea shore . [SEP]\n",
      "[CLS] sally sells seas shells down by the [MASK] shore . [SEP]\n",
      "[CLS] sally sells seas shells down by the north shore . [SEP]\n",
      "\n",
      "[CLS] sally sells seas shells down by the sea shore . [SEP]\n",
      "[CLS] sally sells seas shells down by the sea [MASK] . [SEP]\n",
      "[CLS] sally sells seas shells down by the sea side . [SEP]\n",
      "\n",
      "[CLS] sally sells seas shells down by the sea shore . [SEP]\n",
      "[CLS] sally sells seas shells down by the sea shore [MASK] [SEP]\n",
      "[CLS] sally sells seas shells down by the sea shore . [SEP]\n",
      "\n",
      "[CLS] sally sells seas shells down by the sea shore . [SEP]\n",
      "[CLS] sally sells seas shells down by the sea shore . [MASK]\n",
      "[CLS] sally sells seas shells down by the sea shore . \"\n",
      "\n"
     ]
    }
   ],
   "source": [
    "# fill in the blank examples\n",
    "# original\n",
    "# masked\n",
    "# predicted\n",
    "text = \"sally sells seas shells down by the sea shore.\"\n",
    "tokenizer.tokenize(text)\n",
    "for masked_index in range(len(tokenizer.tokenize(text))+2):\n",
    "    fill_in_the_blank(text, masked_index)\n",
    "    print()"
   ]
  }
 ],
 "metadata": {
  "kernelspec": {
   "display_name": "Python 3",
   "language": "python",
   "name": "python3"
  },
  "language_info": {
   "codemirror_mode": {
    "name": "ipython",
    "version": 3
   },
   "file_extension": ".py",
   "mimetype": "text/x-python",
   "name": "python",
   "nbconvert_exporter": "python",
   "pygments_lexer": "ipython3",
   "version": "3.6.7"
  }
 },
 "nbformat": 4,
 "nbformat_minor": 2
}
